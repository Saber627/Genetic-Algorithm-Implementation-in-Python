{
 "cells": [
  {
   "cell_type": "code",
   "execution_count": 1,
   "metadata": {},
   "outputs": [],
   "source": [
    "import numpy as np\n",
    "import matplotlib.pyplot as plt\n",
    "from ypstruct import structure"
   ]
  },
  {
   "cell_type": "code",
   "execution_count": 2,
   "metadata": {},
   "outputs": [],
   "source": [
    "from ipynb.fs.full.ga import run"
   ]
  },
  {
   "cell_type": "code",
   "execution_count": 3,
   "metadata": {},
   "outputs": [],
   "source": [
    "# Sphere Test Function\n",
    "def sphere(x):\n",
    "    return sum(x**2)"
   ]
  },
  {
   "cell_type": "code",
   "execution_count": 4,
   "metadata": {},
   "outputs": [],
   "source": [
    "# Problem Definition\n",
    "problem = structure()\n",
    "problem.costfunc = sphere\n",
    "problem.nvar = 5\n",
    "problem.varmin = -10\n",
    "problem.varmax = 10"
   ]
  },
  {
   "cell_type": "code",
   "execution_count": 5,
   "metadata": {},
   "outputs": [],
   "source": [
    "# GA Parameters\n",
    "params = structure()\n",
    "params.maxit = 100\n",
    "params.npop = 20 \n",
    "params.pc = 1\n",
    "params.gamma = 0.1\n",
    "params.mu = 0.2\n",
    "params.sigma = 0.1"
   ]
  },
  {
   "cell_type": "code",
   "execution_count": 10,
   "metadata": {},
   "outputs": [
    {
     "name": "stdout",
     "output_type": "stream",
     "text": [
      "Iteration 0: Best Cost = 41.29270159305423\n",
      "Iteration 1: Best Cost = 11.307133467352598\n",
      "Iteration 2: Best Cost = 10.210366480608652\n",
      "Iteration 3: Best Cost = 10.210366480608652\n",
      "Iteration 4: Best Cost = 3.143517204704425\n",
      "Iteration 5: Best Cost = 3.143517204704425\n",
      "Iteration 6: Best Cost = 2.0239448293453144\n",
      "Iteration 7: Best Cost = 1.1599498298420738\n",
      "Iteration 8: Best Cost = 1.1599498298420738\n",
      "Iteration 9: Best Cost = 0.05657077603123056\n",
      "Iteration 10: Best Cost = 0.05657077603123056\n",
      "Iteration 11: Best Cost = 0.05657077603123056\n",
      "Iteration 12: Best Cost = 0.05657077603123056\n",
      "Iteration 13: Best Cost = 0.035865595235282925\n",
      "Iteration 14: Best Cost = 0.02811017803107594\n",
      "Iteration 15: Best Cost = 0.02811017803107594\n",
      "Iteration 16: Best Cost = 0.010094384620200746\n",
      "Iteration 17: Best Cost = 0.010094384620200746\n",
      "Iteration 18: Best Cost = 0.010094384620200746\n",
      "Iteration 19: Best Cost = 0.00552841540051581\n",
      "Iteration 20: Best Cost = 0.002918706542893436\n",
      "Iteration 21: Best Cost = 0.002918706542893436\n",
      "Iteration 22: Best Cost = 0.002918706542893436\n",
      "Iteration 23: Best Cost = 0.0014839770952218532\n",
      "Iteration 24: Best Cost = 0.0011582556828483854\n",
      "Iteration 25: Best Cost = 0.00081225631945999\n",
      "Iteration 26: Best Cost = 0.00028300166524662326\n",
      "Iteration 27: Best Cost = 0.00028300166524662326\n",
      "Iteration 28: Best Cost = 0.00028300166524662326\n",
      "Iteration 29: Best Cost = 0.00028300166524662326\n",
      "Iteration 30: Best Cost = 0.00028300166524662326\n",
      "Iteration 31: Best Cost = 0.00026263806304896713\n",
      "Iteration 32: Best Cost = 0.00013583473340985044\n",
      "Iteration 33: Best Cost = 0.00013583473340985044\n",
      "Iteration 34: Best Cost = 0.00013583473340985044\n",
      "Iteration 35: Best Cost = 0.00013583473340985044\n",
      "Iteration 36: Best Cost = 0.00012156688682395762\n",
      "Iteration 37: Best Cost = 0.00012156688682395762\n",
      "Iteration 38: Best Cost = 6.073523006169773e-05\n",
      "Iteration 39: Best Cost = 6.073523006169773e-05\n",
      "Iteration 40: Best Cost = 6.073523006169773e-05\n",
      "Iteration 41: Best Cost = 6.073523006169773e-05\n",
      "Iteration 42: Best Cost = 6.073523006169773e-05\n",
      "Iteration 43: Best Cost = 6.073523006169773e-05\n",
      "Iteration 44: Best Cost = 1.4660773962315463e-05\n",
      "Iteration 45: Best Cost = 1.4660773962315463e-05\n",
      "Iteration 46: Best Cost = 1.4660773962315463e-05\n",
      "Iteration 47: Best Cost = 1.4660773962315463e-05\n",
      "Iteration 48: Best Cost = 1.4660773962315463e-05\n",
      "Iteration 49: Best Cost = 4.038291145629012e-06\n",
      "Iteration 50: Best Cost = 4.038291145629012e-06\n",
      "Iteration 51: Best Cost = 4.038291145629012e-06\n",
      "Iteration 52: Best Cost = 4.038291145629012e-06\n",
      "Iteration 53: Best Cost = 4.038291145629012e-06\n",
      "Iteration 54: Best Cost = 4.038291145629012e-06\n",
      "Iteration 55: Best Cost = 4.038291145629012e-06\n",
      "Iteration 56: Best Cost = 4.038291145629012e-06\n",
      "Iteration 57: Best Cost = 4.038291145629012e-06\n",
      "Iteration 58: Best Cost = 4.038291145629012e-06\n",
      "Iteration 59: Best Cost = 4.038291145629012e-06\n",
      "Iteration 60: Best Cost = 4.038291145629012e-06\n",
      "Iteration 61: Best Cost = 4.038291145629012e-06\n",
      "Iteration 62: Best Cost = 4.038291145629012e-06\n",
      "Iteration 63: Best Cost = 4.038291145629012e-06\n",
      "Iteration 64: Best Cost = 4.038291145629012e-06\n",
      "Iteration 65: Best Cost = 4.038291145629012e-06\n",
      "Iteration 66: Best Cost = 4.033646510893809e-06\n",
      "Iteration 67: Best Cost = 3.885176589985557e-06\n",
      "Iteration 68: Best Cost = 3.850145026436412e-06\n",
      "Iteration 69: Best Cost = 3.820171910732185e-06\n",
      "Iteration 70: Best Cost = 3.820171910732185e-06\n",
      "Iteration 71: Best Cost = 3.5496426926478613e-06\n",
      "Iteration 72: Best Cost = 3.5496426926478613e-06\n",
      "Iteration 73: Best Cost = 3.5496426926478613e-06\n",
      "Iteration 74: Best Cost = 3.4289718837289268e-06\n",
      "Iteration 75: Best Cost = 1.375434475043396e-06\n",
      "Iteration 76: Best Cost = 1.375434475043396e-06\n",
      "Iteration 77: Best Cost = 1.375434475043396e-06\n",
      "Iteration 78: Best Cost = 1.375434475043396e-06\n",
      "Iteration 79: Best Cost = 1.375434475043396e-06\n",
      "Iteration 80: Best Cost = 1.375434475043396e-06\n",
      "Iteration 81: Best Cost = 1.375434475043396e-06\n",
      "Iteration 82: Best Cost = 1.375434475043396e-06\n",
      "Iteration 83: Best Cost = 1.375434475043396e-06\n",
      "Iteration 84: Best Cost = 1.375434475043396e-06\n",
      "Iteration 85: Best Cost = 1.3739990889993858e-06\n",
      "Iteration 86: Best Cost = 1.3739990889993858e-06\n",
      "Iteration 87: Best Cost = 1.3739990889993858e-06\n",
      "Iteration 88: Best Cost = 1.3739990889993858e-06\n",
      "Iteration 89: Best Cost = 1.3739990889993858e-06\n",
      "Iteration 90: Best Cost = 1.3739990889993858e-06\n",
      "Iteration 91: Best Cost = 1.3384418073730694e-06\n",
      "Iteration 92: Best Cost = 1.3384418073730694e-06\n",
      "Iteration 93: Best Cost = 1.3384418073730694e-06\n",
      "Iteration 94: Best Cost = 1.3384418073730694e-06\n",
      "Iteration 95: Best Cost = 1.3384418073730694e-06\n",
      "Iteration 96: Best Cost = 1.3384418073730694e-06\n",
      "Iteration 97: Best Cost = 1.3384418073730694e-06\n",
      "Iteration 98: Best Cost = 1.3384418073730694e-06\n",
      "Iteration 99: Best Cost = 1.3384418073730694e-06\n",
      "structure({'position': array([ 0.00019093,  0.00033518,  0.00024523,  0.00105629, -0.00011727]), 'cost': 1.3384418073730694e-06})\n",
      "[4.12927016e+01 1.13071335e+01 1.02103665e+01 1.02103665e+01\n",
      " 3.14351720e+00 3.14351720e+00 2.02394483e+00 1.15994983e+00\n",
      " 1.15994983e+00 5.65707760e-02 5.65707760e-02 5.65707760e-02\n",
      " 5.65707760e-02 3.58655952e-02 2.81101780e-02 2.81101780e-02\n",
      " 1.00943846e-02 1.00943846e-02 1.00943846e-02 5.52841540e-03\n",
      " 2.91870654e-03 2.91870654e-03 2.91870654e-03 1.48397710e-03\n",
      " 1.15825568e-03 8.12256319e-04 2.83001665e-04 2.83001665e-04\n",
      " 2.83001665e-04 2.83001665e-04 2.83001665e-04 2.62638063e-04\n",
      " 1.35834733e-04 1.35834733e-04 1.35834733e-04 1.35834733e-04\n",
      " 1.21566887e-04 1.21566887e-04 6.07352301e-05 6.07352301e-05\n",
      " 6.07352301e-05 6.07352301e-05 6.07352301e-05 6.07352301e-05\n",
      " 1.46607740e-05 1.46607740e-05 1.46607740e-05 1.46607740e-05\n",
      " 1.46607740e-05 4.03829115e-06 4.03829115e-06 4.03829115e-06\n",
      " 4.03829115e-06 4.03829115e-06 4.03829115e-06 4.03829115e-06\n",
      " 4.03829115e-06 4.03829115e-06 4.03829115e-06 4.03829115e-06\n",
      " 4.03829115e-06 4.03829115e-06 4.03829115e-06 4.03829115e-06\n",
      " 4.03829115e-06 4.03829115e-06 4.03364651e-06 3.88517659e-06\n",
      " 3.85014503e-06 3.82017191e-06 3.82017191e-06 3.54964269e-06\n",
      " 3.54964269e-06 3.54964269e-06 3.42897188e-06 1.37543448e-06\n",
      " 1.37543448e-06 1.37543448e-06 1.37543448e-06 1.37543448e-06\n",
      " 1.37543448e-06 1.37543448e-06 1.37543448e-06 1.37543448e-06\n",
      " 1.37543448e-06 1.37399909e-06 1.37399909e-06 1.37399909e-06\n",
      " 1.37399909e-06 1.37399909e-06 1.37399909e-06 1.33844181e-06\n",
      " 1.33844181e-06 1.33844181e-06 1.33844181e-06 1.33844181e-06\n",
      " 1.33844181e-06 1.33844181e-06 1.33844181e-06 1.33844181e-06]\n"
     ]
    }
   ],
   "source": [
    "# Run GA\n",
    "out = run(problem, params)\n",
    "# out.pop(0)"
   ]
  },
  {
   "cell_type": "code",
   "execution_count": 11,
   "metadata": {},
   "outputs": [
    {
     "data": {
      "image/png": "[encoded data removed]",
      "text/plain": [
       "<Figure size 432x288 with 1 Axes>"
      ]
     },
     "metadata": {
      "needs_background": "light"
     },
     "output_type": "display_data"
    }
   ],
   "source": [
    "# Results\n",
    "# plt.plot(out.bestcost)\n",
    "plt.semilogy(out.bestcost)\n",
    "plt.xlim(0, params.maxit)\n",
    "plt.xlabel('Iterations')\n",
    "plt.ylabel('Best Cost')\n",
    "plt.title('Genetic Algorithm (GA)')\n",
    "plt.grid(True)\n",
    "plt.show()"
   ]
  },
  {
   "cell_type": "code",
   "execution_count": null,
   "metadata": {},
   "outputs": [],
   "source": []
  }
 ],
 "metadata": {
  "kernelspec": {
   "display_name": "Python 3",
   "language": "python",
   "name": "python3"
  },
  "language_info": {
   "codemirror_mode": {
    "name": "ipython",
    "version": 3
   },
   "file_extension": ".py",
   "mimetype": "text/x-python",
   "name": "python",
   "nbconvert_exporter": "python",
   "pygments_lexer": "ipython3",
   "version": "3.7.6"
  }
 },
 "nbformat": 4,
 "nbformat_minor": 4
}
