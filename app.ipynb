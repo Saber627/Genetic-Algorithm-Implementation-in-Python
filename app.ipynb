{
 "cells": [
  {
   "cell_type": "code",
   "execution_count": 1,
   "metadata": {},
   "outputs": [],
   "source": [
    "import numpy as np\n",
    "import matplotlib.pyplot as plt\n",
    "from ypstruct import structure"
   ]
  },
  {
   "cell_type": "code",
   "execution_count": 2,
   "metadata": {},
   "outputs": [],
   "source": [
    "from ipynb.fs.full.ga import run"
   ]
  },
  {
   "cell_type": "code",
   "execution_count": 3,
   "metadata": {},
   "outputs": [],
   "source": [
    "# Sphere Test Function\n",
    "def sphere(x):\n",
    "    return sum(x**2)"
   ]
  },
  {
   "cell_type": "code",
   "execution_count": 4,
   "metadata": {},
   "outputs": [],
   "source": [
    "# Problem Definition\n",
    "problem = structure()\n",
    "problem.costfunc = sphere\n",
    "problem.nvar = 5\n",
    "problem.varmin = -10\n",
    "problem.varmax = 10"
   ]
  },
  {
   "cell_type": "code",
   "execution_count": 9,
   "metadata": {},
   "outputs": [],
   "source": [
    "# GA Parameters\n",
    "params = structure()\n",
    "params.maxit = 100\n",
    "params.npop = 20 \n",
    "params.pc = 1\n",
    "params.gamma = 0.1\n",
    "params.mu = 0.2\n",
    "params.sigma = 0.1"
   ]
  },
  {
   "cell_type": "code",
   "execution_count": 10,
   "metadata": {},
   "outputs": [
    {
     "name": "stdout",
     "output_type": "stream",
     "text": [
      "Iteration 0: Best Cost = 60.517226991984074\n",
      "Iteration 1: Best Cost = 17.31401288975242\n",
      "Iteration 2: Best Cost = 14.230102784020113\n",
      "Iteration 3: Best Cost = 6.7355712733819475\n",
      "Iteration 4: Best Cost = 4.510054153275467\n",
      "Iteration 5: Best Cost = 4.510054153275467\n",
      "Iteration 6: Best Cost = 3.8175240667153387\n",
      "Iteration 7: Best Cost = 2.5272149725791375\n",
      "Iteration 8: Best Cost = 1.603288140130348\n",
      "Iteration 9: Best Cost = 1.503515997719751\n",
      "Iteration 10: Best Cost = 1.0988845490609742\n",
      "Iteration 11: Best Cost = 0.6018036500589024\n",
      "Iteration 12: Best Cost = 0.6018036500589024\n",
      "Iteration 13: Best Cost = 0.5333973576190599\n",
      "Iteration 14: Best Cost = 0.4669028757705076\n",
      "Iteration 15: Best Cost = 0.3651466592003424\n",
      "Iteration 16: Best Cost = 0.3651466592003424\n",
      "Iteration 17: Best Cost = 0.2916514024912073\n",
      "Iteration 18: Best Cost = 0.27203013834785245\n",
      "Iteration 19: Best Cost = 0.2537667168646375\n",
      "Iteration 20: Best Cost = 0.23252480696782754\n",
      "Iteration 21: Best Cost = 0.1927470126121891\n",
      "Iteration 22: Best Cost = 0.13690043660128964\n",
      "Iteration 23: Best Cost = 0.07635886969943786\n",
      "Iteration 24: Best Cost = 0.07635886969943786\n",
      "Iteration 25: Best Cost = 0.07635886969943786\n",
      "Iteration 26: Best Cost = 0.056270507219853494\n",
      "Iteration 27: Best Cost = 0.056270507219853494\n",
      "Iteration 28: Best Cost = 0.03227246666274628\n",
      "Iteration 29: Best Cost = 0.022917958536038622\n",
      "Iteration 30: Best Cost = 0.012321533182513675\n",
      "Iteration 31: Best Cost = 0.012321533182513675\n",
      "Iteration 32: Best Cost = 0.007121419485059401\n",
      "Iteration 33: Best Cost = 0.007121419485059401\n",
      "Iteration 34: Best Cost = 0.005470954779845358\n",
      "Iteration 35: Best Cost = 0.0032038099535570998\n",
      "Iteration 36: Best Cost = 0.00310172441038894\n",
      "Iteration 37: Best Cost = 0.002147730212299021\n",
      "Iteration 38: Best Cost = 0.002147730212299021\n",
      "Iteration 39: Best Cost = 0.002059073735419599\n",
      "Iteration 40: Best Cost = 0.0012362939701580742\n",
      "Iteration 41: Best Cost = 0.0002898836703696938\n",
      "Iteration 42: Best Cost = 0.0002898836703696938\n",
      "Iteration 43: Best Cost = 0.0002898836703696938\n",
      "Iteration 44: Best Cost = 0.0002898836703696938\n",
      "Iteration 45: Best Cost = 0.0002898836703696938\n",
      "Iteration 46: Best Cost = 0.0002898836703696938\n",
      "Iteration 47: Best Cost = 0.0002898836703696938\n",
      "Iteration 48: Best Cost = 0.00025684668584897714\n",
      "Iteration 49: Best Cost = 0.00012529789326354022\n",
      "Iteration 50: Best Cost = 6.601700116295956e-05\n",
      "Iteration 51: Best Cost = 6.185127800568567e-05\n",
      "Iteration 52: Best Cost = 6.185127800568567e-05\n",
      "Iteration 53: Best Cost = 6.185127800568567e-05\n",
      "Iteration 54: Best Cost = 6.185127800568567e-05\n",
      "Iteration 55: Best Cost = 2.9626133058806998e-05\n",
      "Iteration 56: Best Cost = 2.9626133058806998e-05\n",
      "Iteration 57: Best Cost = 2.1547706149899644e-05\n",
      "Iteration 58: Best Cost = 1.6650202445345333e-05\n",
      "Iteration 59: Best Cost = 1.6650202445345333e-05\n",
      "Iteration 60: Best Cost = 1.6650202445345333e-05\n",
      "Iteration 61: Best Cost = 1.5028333431718668e-05\n",
      "Iteration 62: Best Cost = 1.323096018291206e-05\n",
      "Iteration 63: Best Cost = 1.323096018291206e-05\n",
      "Iteration 64: Best Cost = 1.323096018291206e-05\n",
      "Iteration 65: Best Cost = 1.2680974296767863e-05\n",
      "Iteration 66: Best Cost = 1.0571434692095242e-05\n",
      "Iteration 67: Best Cost = 7.743873633882995e-06\n",
      "Iteration 68: Best Cost = 6.950460176040421e-06\n",
      "Iteration 69: Best Cost = 6.950460176040421e-06\n",
      "Iteration 70: Best Cost = 6.950460176040421e-06\n",
      "Iteration 71: Best Cost = 6.950460176040421e-06\n",
      "Iteration 72: Best Cost = 6.900815873502409e-06\n",
      "Iteration 73: Best Cost = 6.900815873502409e-06\n",
      "Iteration 74: Best Cost = 6.430581884758816e-06\n",
      "Iteration 75: Best Cost = 5.760932759779911e-06\n",
      "Iteration 76: Best Cost = 5.760932759779911e-06\n",
      "Iteration 77: Best Cost = 5.760932759779911e-06\n",
      "Iteration 78: Best Cost = 5.760932759779911e-06\n",
      "Iteration 79: Best Cost = 5.760932759779911e-06\n",
      "Iteration 80: Best Cost = 5.530642205397635e-06\n",
      "Iteration 81: Best Cost = 5.530642205397635e-06\n",
      "Iteration 82: Best Cost = 5.272030637001127e-06\n",
      "Iteration 83: Best Cost = 3.5115856188516756e-06\n",
      "Iteration 84: Best Cost = 3.5115856188516756e-06\n",
      "Iteration 85: Best Cost = 3.2213630241956306e-06\n",
      "Iteration 86: Best Cost = 3.2213630241956306e-06\n",
      "Iteration 87: Best Cost = 3.2213630241956306e-06\n",
      "Iteration 88: Best Cost = 3.2213630241956306e-06\n",
      "Iteration 89: Best Cost = 9.727379133973984e-07\n",
      "Iteration 90: Best Cost = 9.727379133973984e-07\n",
      "Iteration 91: Best Cost = 9.727379133973984e-07\n",
      "Iteration 92: Best Cost = 9.727379133973984e-07\n",
      "Iteration 93: Best Cost = 9.727379133973984e-07\n",
      "Iteration 94: Best Cost = 9.727379133973984e-07\n",
      "Iteration 95: Best Cost = 9.727379133973984e-07\n",
      "Iteration 96: Best Cost = 9.727379133973984e-07\n",
      "Iteration 97: Best Cost = 9.727379133973984e-07\n",
      "Iteration 98: Best Cost = 9.727379133973984e-07\n",
      "Iteration 99: Best Cost = 9.727379133973984e-07\n"
     ]
    }
   ],
   "source": [
    "# Run GA\n",
    "out = run(problem, params)\n",
    "# out.pop(0)"
   ]
  },
  {
   "cell_type": "code",
   "execution_count": null,
   "metadata": {},
   "outputs": [],
   "source": []
  }
 ],
 "metadata": {
  "kernelspec": {
   "display_name": "Python 3",
   "language": "python",
   "name": "python3"
  },
  "language_info": {
   "codemirror_mode": {
    "name": "ipython",
    "version": 3
   },
   "file_extension": ".py",
   "mimetype": "text/x-python",
   "name": "python",
   "nbconvert_exporter": "python",
   "pygments_lexer": "ipython3",
   "version": "3.7.6"
  }
 },
 "nbformat": 4,
 "nbformat_minor": 4
}
