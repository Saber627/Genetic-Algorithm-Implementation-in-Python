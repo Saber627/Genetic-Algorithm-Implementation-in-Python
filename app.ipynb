{
 "cells": [
  {
   "cell_type": "code",
   "execution_count": 1,
   "metadata": {},
   "outputs": [],
   "source": [
    "import numpy as np\n",
    "import matplotlib.pyplot as plt\n",
    "from ypstruct import structure"
   ]
  },
  {
   "cell_type": "code",
   "execution_count": 2,
   "metadata": {},
   "outputs": [],
   "source": [
    "from ipynb.fs.full.ga import run"
   ]
  },
  {
   "cell_type": "code",
   "execution_count": 3,
   "metadata": {},
   "outputs": [],
   "source": [
    "# Sphere Test Function\n",
    "def sphere(x):\n",
    "    return sum(x**2)"
   ]
  },
  {
   "cell_type": "code",
   "execution_count": 4,
   "metadata": {},
   "outputs": [],
   "source": [
    "# Problem Definition\n",
    "problem = structure()\n",
    "problem.costfunc = sphere\n",
    "problem.nvar = 5\n",
    "problem.varmin = -10\n",
    "problem.varmax = 10"
   ]
  },
  {
   "cell_type": "code",
   "execution_count": 5,
   "metadata": {},
   "outputs": [],
   "source": [
    "# GA Parameters\n",
    "params = structure()\n",
    "params.maxit = 100\n",
    "params.npop = 20\n",
    "params.beta = 1\n",
    "params.pc = 1\n",
    "params.gamma = 0.1\n",
    "params.mu = 0.2\n",
    "params.sigma = 0.1"
   ]
  },
  {
   "cell_type": "code",
   "execution_count": 6,
   "metadata": {},
   "outputs": [
    {
     "name": "stdout",
     "output_type": "stream",
     "text": [
      "Iteration 0: Best Cost = 39.44452730237866\n",
      "Iteration 1: Best Cost = 20.2383021345586\n",
      "Iteration 2: Best Cost = 11.840220758157828\n",
      "Iteration 3: Best Cost = 2.577581887835262\n",
      "Iteration 4: Best Cost = 2.577581887835262\n",
      "Iteration 5: Best Cost = 2.2874996784542985\n",
      "Iteration 6: Best Cost = 2.025410447645875\n",
      "Iteration 7: Best Cost = 1.9896271883164653\n",
      "Iteration 8: Best Cost = 1.1405470080897755\n",
      "Iteration 9: Best Cost = 1.1405470080897755\n",
      "Iteration 10: Best Cost = 1.1405470080897755\n",
      "Iteration 11: Best Cost = 1.1405470080897755\n",
      "Iteration 12: Best Cost = 1.097552555088456\n",
      "Iteration 13: Best Cost = 0.8687897329393239\n",
      "Iteration 14: Best Cost = 0.8687897329393239\n",
      "Iteration 15: Best Cost = 0.7848005863496256\n",
      "Iteration 16: Best Cost = 0.7848005863496256\n",
      "Iteration 17: Best Cost = 0.6927393874390592\n",
      "Iteration 18: Best Cost = 0.6927393874390592\n",
      "Iteration 19: Best Cost = 0.6112250214309645\n",
      "Iteration 20: Best Cost = 0.5022999243294813\n",
      "Iteration 21: Best Cost = 0.5022999243294813\n",
      "Iteration 22: Best Cost = 0.38174023146757274\n",
      "Iteration 23: Best Cost = 0.38174023146757274\n",
      "Iteration 24: Best Cost = 0.3067405163897852\n",
      "Iteration 25: Best Cost = 0.25559475850354746\n",
      "Iteration 26: Best Cost = 0.24434013408725275\n",
      "Iteration 27: Best Cost = 0.19997736933632718\n",
      "Iteration 28: Best Cost = 0.13729636767440473\n",
      "Iteration 29: Best Cost = 0.07922153198094023\n",
      "Iteration 30: Best Cost = 0.0741381785209787\n",
      "Iteration 31: Best Cost = 0.06388907823071224\n",
      "Iteration 32: Best Cost = 0.05884290990131702\n",
      "Iteration 33: Best Cost = 0.041388696585911856\n",
      "Iteration 34: Best Cost = 0.035563808807849276\n",
      "Iteration 35: Best Cost = 0.032026347679168635\n",
      "Iteration 36: Best Cost = 0.03112638758033591\n",
      "Iteration 37: Best Cost = 0.013124537341983647\n",
      "Iteration 38: Best Cost = 0.0068296879575576565\n",
      "Iteration 39: Best Cost = 0.0037846994928746806\n",
      "Iteration 40: Best Cost = 0.0037846994928746806\n",
      "Iteration 41: Best Cost = 0.0037846994928746806\n",
      "Iteration 42: Best Cost = 0.002082978464440606\n",
      "Iteration 43: Best Cost = 0.0019506443077818153\n",
      "Iteration 44: Best Cost = 0.0019506443077818153\n",
      "Iteration 45: Best Cost = 0.0018667230888145874\n",
      "Iteration 46: Best Cost = 0.0012687768593464025\n",
      "Iteration 47: Best Cost = 0.0007973471113193187\n",
      "Iteration 48: Best Cost = 0.0007973471113193187\n",
      "Iteration 49: Best Cost = 0.0003148264193454422\n",
      "Iteration 50: Best Cost = 0.00022476390713265301\n",
      "Iteration 51: Best Cost = 0.00022476390713265301\n",
      "Iteration 52: Best Cost = 0.00014383076745674842\n",
      "Iteration 53: Best Cost = 0.00014383076745674842\n",
      "Iteration 54: Best Cost = 0.00014383076745674842\n",
      "Iteration 55: Best Cost = 0.00014383076745674842\n",
      "Iteration 56: Best Cost = 0.0001308313890054252\n",
      "Iteration 57: Best Cost = 0.0001308313890054252\n",
      "Iteration 58: Best Cost = 0.00010926209126500583\n",
      "Iteration 59: Best Cost = 0.00010926209126500583\n",
      "Iteration 60: Best Cost = 0.00010926209126500583\n",
      "Iteration 61: Best Cost = 7.949973175737696e-05\n",
      "Iteration 62: Best Cost = 7.949973175737696e-05\n",
      "Iteration 63: Best Cost = 7.949973175737696e-05\n",
      "Iteration 64: Best Cost = 2.407733655337123e-05\n",
      "Iteration 65: Best Cost = 2.407733655337123e-05\n",
      "Iteration 66: Best Cost = 2.407733655337123e-05\n",
      "Iteration 67: Best Cost = 2.407733655337123e-05\n",
      "Iteration 68: Best Cost = 2.407733655337123e-05\n",
      "Iteration 69: Best Cost = 2.407733655337123e-05\n",
      "Iteration 70: Best Cost = 2.2483158002721226e-05\n",
      "Iteration 71: Best Cost = 2.2483158002721226e-05\n",
      "Iteration 72: Best Cost = 1.1612725486416405e-05\n",
      "Iteration 73: Best Cost = 1.1612725486416405e-05\n",
      "Iteration 74: Best Cost = 1.0239382898499397e-05\n",
      "Iteration 75: Best Cost = 1.0239382898499397e-05\n",
      "Iteration 76: Best Cost = 1.0239382898499397e-05\n",
      "Iteration 77: Best Cost = 1.0239382898499397e-05\n",
      "Iteration 78: Best Cost = 1.0239382898499397e-05\n",
      "Iteration 79: Best Cost = 1.0239382898499397e-05\n",
      "Iteration 80: Best Cost = 9.908034055953337e-06\n",
      "Iteration 81: Best Cost = 9.908034055953337e-06\n",
      "Iteration 82: Best Cost = 9.908034055953337e-06\n",
      "Iteration 83: Best Cost = 9.908034055953337e-06\n",
      "Iteration 84: Best Cost = 7.42899832124203e-06\n",
      "Iteration 85: Best Cost = 7.42899832124203e-06\n",
      "Iteration 86: Best Cost = 7.42899832124203e-06\n",
      "Iteration 87: Best Cost = 7.42899832124203e-06\n",
      "Iteration 88: Best Cost = 7.42899832124203e-06\n",
      "Iteration 89: Best Cost = 7.328436934180865e-06\n",
      "Iteration 90: Best Cost = 6.729404181209899e-06\n",
      "Iteration 91: Best Cost = 6.729404181209899e-06\n",
      "Iteration 92: Best Cost = 6.183530918436627e-06\n",
      "Iteration 93: Best Cost = 6.183530918436627e-06\n",
      "Iteration 94: Best Cost = 6.183530918436627e-06\n",
      "Iteration 95: Best Cost = 6.183530918436627e-06\n",
      "Iteration 96: Best Cost = 6.183530918436627e-06\n",
      "Iteration 97: Best Cost = 6.143758952139743e-06\n",
      "Iteration 98: Best Cost = 6.143758952139743e-06\n",
      "Iteration 99: Best Cost = 6.143758952139743e-06\n"
     ]
    }
   ],
   "source": [
    "# Run GA\n",
    "out = run(problem, params)\n",
    "# out.pop(0)"
   ]
  },
  {
   "cell_type": "code",
   "execution_count": 7,
   "metadata": {},
   "outputs": [
    {
     "data": {
      "image/png": "[encoded data removed]",
      "text/plain": [
       "<Figure size 432x288 with 1 Axes>"
      ]
     },
     "metadata": {
      "needs_background": "light"
     },
     "output_type": "display_data"
    }
   ],
   "source": [
    "# Results\n",
    "# plt.plot(out.bestcost)\n",
    "plt.semilogy(out.bestcost)\n",
    "plt.xlim(0, params.maxit)\n",
    "plt.xlabel('Iterations')\n",
    "plt.ylabel('Best Cost')\n",
    "plt.title('Genetic Algorithm (GA)')\n",
    "plt.grid(True)\n",
    "plt.show()"
   ]
  }
 ],
 "metadata": {
  "kernelspec": {
   "display_name": "Python 3",
   "language": "python",
   "name": "python3"
  },
  "language_info": {
   "codemirror_mode": {
    "name": "ipython",
    "version": 3
   },
   "file_extension": ".py",
   "mimetype": "text/x-python",
   "name": "python",
   "nbconvert_exporter": "python",
   "pygments_lexer": "ipython3",
   "version": "3.7.6"
  }
 },
 "nbformat": 4,
 "nbformat_minor": 4
}
