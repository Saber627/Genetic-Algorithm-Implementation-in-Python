{
 "cells": [
  {
   "cell_type": "code",
   "execution_count": 1,
   "metadata": {},
   "outputs": [],
   "source": [
    "import numpy as np\n",
    "from ypstruct import structure"
   ]
  },
  {
   "cell_type": "code",
   "execution_count": 5,
   "metadata": {},
   "outputs": [],
   "source": [
    "def run(problem, params):\n",
    "    \n",
    "    # Problem Information\n",
    "    costfunc = problem.costfunc\n",
    "    nvar = problem.nvar\n",
    "    varmin = problem.varmin\n",
    "    varmax = problem.varmax\n",
    "    \n",
    "    \n",
    "    # Parameters\n",
    "    maxit = params.maxit\n",
    "    npop = params.npop\n",
    "    pc = params.pc\n",
    "    nc = np.round(pc*npop/2)*2\n",
    "    gamma = params.gamma\n",
    "    \n",
    "    # Empty Individual Template\n",
    "    empty_individual = structure()\n",
    "    empty_individual.position = None\n",
    "    empty_individual.cost = None\n",
    "    \n",
    "    # BestSolution Ever Found\n",
    "    bestsol = empty_individual.deepcopy()\n",
    "    bestsol.cost = np.inf\n",
    "    \n",
    "    # Initialise Population\n",
    "    pop = empty_individual.repeat(npop)\n",
    "    for i in range(0, npop):\n",
    "        pop[i].position = np.random.uniform(varmin, varmax, nvar)\n",
    "        pop[i].cost = costfunc(pop[i].position)\n",
    "        if pop[i].cost < bestsol.cost:\n",
    "            bestsol = pop[i].deepcopy()\n",
    "    \n",
    "    # Best Cost of Iterations\n",
    "    bestcost = np.empty(maxit)\n",
    "    \n",
    "    # Main Loop\n",
    "    for it in range(maxit):\n",
    "        \n",
    "        popc = []\n",
    "        for k in range(nc//2):\n",
    "            \n",
    "            # Select Parents\n",
    "            q = np.random.permutation(npop)\n",
    "            p1 = pop[q[0]]\n",
    "            p2 = pop[q[1]]\n",
    "            \n",
    "            # Perform Crossover\n",
    "            c1, c2 = crossover(p1, p2, gamma)\n",
    "    \n",
    "    # Output\n",
    "    out = structure()\n",
    "    out.pop = pop\n",
    "    return pop"
   ]
  },
  {
   "cell_type": "code",
   "execution_count": null,
   "metadata": {},
   "outputs": [],
   "source": [
    "def crossover(p1, p2, gamma=0.1):\n",
    "    \n",
    "    c1 = p1.deepcopy()\n",
    "    c2 = p1.deepcopy()\n",
    "    alpha = np.random.uniform(-gamma, 1+gamma, *c1.position.shape)\n",
    "    c1.position = alpha*p1.position + (1-alpha)*p2.position\n",
    "    c2.position = alpha*p2.position + (1-alpha)*p1.position\n",
    "    return c1, c2"
   ]
  }
 ],
 "metadata": {
  "kernelspec": {
   "display_name": "Python 3",
   "language": "python",
   "name": "python3"
  },
  "language_info": {
   "codemirror_mode": {
    "name": "ipython",
    "version": 3
   },
   "file_extension": ".py",
   "mimetype": "text/x-python",
   "name": "python",
   "nbconvert_exporter": "python",
   "pygments_lexer": "ipython3",
   "version": "3.7.6"
  }
 },
 "nbformat": 4,
 "nbformat_minor": 4
}
