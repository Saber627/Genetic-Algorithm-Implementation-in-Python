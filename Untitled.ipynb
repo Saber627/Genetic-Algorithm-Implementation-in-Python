{
 "cells": [
  {
   "cell_type": "markdown",
   "metadata": {},
   "source": [
    "Problem Statement - 1<br>\n",
    "We have two machines and multiple tasks(jobs) - Job1, Job2, Job3 .... Job16. Each job has a processing time. Let's decide the processing time for each job in minutes:<br>\n",
    "1 16<br>\n",
    "2 18<br>\n",
    "3 34<br>\n",
    "4 6<br>\n",
    "5 31<br>\n",
    "6 20<br>\n",
    "7 140<br>\n",
    "8 24<br>\n",
    "9 2<br>\n",
    "10 48<br>\n",
    "11 42<br>\n",
    "12 26<br>\n",
    "13 20<br>\n",
    "14 12<br>\n",
    "15 38<br>\n",
    "16 30<br>\n",
    "Any job can be run on any of the 2 machines.<br>\n",
    "Objective function: minimise total scheduling time (make span time) - any of the machine that has greater time.<br>"
   ]
  },
  {
   "cell_type": "markdown",
   "metadata": {},
   "source": [
    "m1 - job1-job12-job14-job9-job4 ... total 13 jobs (277 minutes) <br>\n",
    "m2 - job7-job10-job11 (230 minutes) <br>"
   ]
  },
  {
   "cell_type": "code",
   "execution_count": 8,
   "metadata": {},
   "outputs": [],
   "source": [
    "jobs = list(range(1,17))\n",
    "time = [16, 18, 34, 6, 31, 20, 140, 24, 2, 48, 42, 26, 20, 12, 38, 30]\n",
    "tasks = dict(zip(jobs, time))"
   ]
  },
  {
   "cell_type": "code",
   "execution_count": 9,
   "metadata": {
    "scrolled": false
   },
   "outputs": [
    {
     "data": {
      "text/plain": [
       "{1: 16,\n",
       " 2: 18,\n",
       " 3: 34,\n",
       " 4: 6,\n",
       " 5: 31,\n",
       " 6: 20,\n",
       " 7: 140,\n",
       " 8: 24,\n",
       " 9: 2,\n",
       " 10: 48,\n",
       " 11: 42,\n",
       " 12: 26,\n",
       " 13: 20,\n",
       " 14: 12,\n",
       " 15: 38,\n",
       " 16: 30}"
      ]
     },
     "execution_count": 9,
     "metadata": {},
     "output_type": "execute_result"
    }
   ],
   "source": [
    "tasks"
   ]
  },
  {
   "cell_type": "markdown",
   "metadata": {},
   "source": [
    "- It takes the same time for a job to be completed by either machine.\n",
    "- The jobs can be picked and performed in any order i.e. Job-1 to Job-16"
   ]
  },
  {
   "cell_type": "code",
   "execution_count": 11,
   "metadata": {},
   "outputs": [],
   "source": [
    "machine1_jobs = []\n",
    "machine1_time = []\n",
    "machine2_jobs = []\n",
    "machine2_time = []"
   ]
  },
  {
   "cell_type": "markdown",
   "metadata": {},
   "source": [
    "for key,value in tasks.items():\n",
    "    if sum(machine1_time) < value:\n",
    "        machine1_jobs.append(key)\n",
    "        machine1_time.append(value)\n",
    "    else:\n",
    "        "
   ]
  },
  {
   "cell_type": "markdown",
   "metadata": {},
   "source": [
    "1. Initial Population\n",
    "1.1 Initial population will consist of 100 chromosomes (i.e. 100 solutions).\n",
    "1.1 Each chromosome will have 16 genes (for 16 jobs).\n",
    "1.2 Each gene will have a 1 or 2 value, indicative of the machine that's going to perform that particular job.\n",
    "2. Fitness Function\n",
    "The fitness function will basically calculate the total scheduling time for a chromosome (solution).\n",
    "3. Selection\n",
    "Selection of parents i.e. 2 chromosomes (solutions) will be done using Roulette Wheel Selection.\n",
    "4. Crossover\n",
    "Simple crossover of 2 chromosomes (solutions) to produce 2 offsprings (solutions).\n",
    "5. Mutation\n",
    "Introduce mutation in each solution. This basically means that we will flip the value of gene(s) in a chromosome (solution). For instance"
   ]
  }
 ],
 "metadata": {
  "kernelspec": {
   "display_name": "Python 3",
   "language": "python",
   "name": "python3"
  },
  "language_info": {
   "codemirror_mode": {
    "name": "ipython",
    "version": 3
   },
   "file_extension": ".py",
   "mimetype": "text/x-python",
   "name": "python",
   "nbconvert_exporter": "python",
   "pygments_lexer": "ipython3",
   "version": "3.7.6"
  }
 },
 "nbformat": 4,
 "nbformat_minor": 4
}
